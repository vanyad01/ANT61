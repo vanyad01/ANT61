{
 "cells": [
  {
   "cell_type": "code",
   "execution_count": 143,
   "metadata": {},
   "outputs": [],
   "source": [
    "import numpy as np\n",
    "import gym\n",
    "import random\n",
    "import time\n",
    "from IPython.display import clear_output\n",
    "import matplotlib.pyplot as plt"
   ]
  },
  {
   "cell_type": "code",
   "execution_count": 144,
   "metadata": {},
   "outputs": [],
   "source": [
    "env = gym.make(\"FrozenLake-v1\", is_slippery=True, map_name=\"4x4\")"
   ]
  },
  {
   "cell_type": "code",
   "execution_count": 145,
   "metadata": {},
   "outputs": [
    {
     "name": "stdout",
     "output_type": "stream",
     "text": [
      "[[0. 0. 0. 0.]\n",
      " [0. 0. 0. 0.]\n",
      " [0. 0. 0. 0.]\n",
      " [0. 0. 0. 0.]\n",
      " [0. 0. 0. 0.]\n",
      " [0. 0. 0. 0.]\n",
      " [0. 0. 0. 0.]\n",
      " [0. 0. 0. 0.]\n",
      " [0. 0. 0. 0.]\n",
      " [0. 0. 0. 0.]\n",
      " [0. 0. 0. 0.]\n",
      " [0. 0. 0. 0.]\n",
      " [0. 0. 0. 0.]\n",
      " [0. 0. 0. 0.]\n",
      " [0. 0. 0. 0.]\n",
      " [0. 0. 0. 0.]]\n"
     ]
    }
   ],
   "source": [
    "action_space_size = env.action_space.n\n",
    "state_space_size = env.observation_space.n\n",
    "\n",
    "q_table = np.zeros((state_space_size, action_space_size))\n",
    "print(q_table)"
   ]
  },
  {
   "cell_type": "markdown",
   "metadata": {},
   "source": [
    "# EPSILON GREEDY STRATEGY\n",
    "- When <font color = magenta>epsilon = 1</font>, it is 100% certain that the agent will __explore__ the environment.\n",
    "> - As the agent learns more about the environment, <font color = magenta>epsilon</font> will decrease, and the agent will move from __exploring__ to __exploiting__.\n",
    "> > - The rate at which <font color = magenta>epsilon</font> decays is the parameter we call <font color = cyan>exploration_decay_rate</font>.\n",
    "> "
   ]
  },
  {
   "cell_type": "code",
   "execution_count": 146,
   "metadata": {},
   "outputs": [],
   "source": [
    "num_episodes = 10000 # total number of episodes for the agent to play during training\n",
    "max_steps_per_episode = 1000 # maximum number of steps for agent to take within an episode\n",
    "\n",
    "learning_rate = 0.9 # alpha in the eqn. after alpha = 0.5, learning rate seems to have a negative effect on rewards.\n",
    "discount_rate = 0.99 # gamma in the eqn.\n",
    "\n",
    "exploration_rate = 1 \n",
    "max_exploration_rate = 1\n",
    "min_exploration_rate = 0.01\n",
    "exploration_decay_rate = 0.001 # a smaller decay rate results in the agent getting to rewards quicker."
   ]
  },
  {
   "cell_type": "code",
   "execution_count": 147,
   "metadata": {},
   "outputs": [
    {
     "name": "stdout",
     "output_type": "stream",
     "text": [
      "********Average reward per thousand episodes********\n",
      "\n",
      "1000 :  0.02100000000000001\n",
      "2000 :  0.09100000000000007\n",
      "3000 :  0.1360000000000001\n",
      "4000 :  0.2890000000000002\n",
      "5000 :  0.36300000000000027\n",
      "6000 :  0.45100000000000035\n",
      "7000 :  0.44500000000000034\n",
      "8000 :  0.44300000000000034\n",
      "9000 :  0.4070000000000003\n",
      "10000 :  0.44200000000000034\n",
      "\n",
      "\n",
      "********Q-table********\n",
      "\n",
      "[[6.28577484e-01 1.89533646e-01 3.55895447e-01 1.90024047e-01]\n",
      " [2.17329144e-05 6.24023232e-03 2.33264728e-02 6.37598593e-01]\n",
      " [5.55625742e-02 2.56833799e-02 3.42260011e-02 5.82124472e-01]\n",
      " [3.02324093e-05 2.89077843e-02 1.97308225e-02 2.42467823e-01]\n",
      " [8.40676351e-01 2.54232851e-03 5.05231764e-02 2.73046400e-02]\n",
      " [0.00000000e+00 0.00000000e+00 0.00000000e+00 0.00000000e+00]\n",
      " [4.47603927e-01 6.73656211e-06 2.69702768e-06 1.36033364e-05]\n",
      " [0.00000000e+00 0.00000000e+00 0.00000000e+00 0.00000000e+00]\n",
      " [3.06592368e-02 4.08335725e-03 9.39996649e-03 8.73042919e-01]\n",
      " [2.30926882e-02 1.89151856e-01 4.99049806e-04 7.11101183e-03]\n",
      " [1.33063945e-02 8.73167991e-05 7.65878922e-03 1.62476913e-06]\n",
      " [0.00000000e+00 0.00000000e+00 0.00000000e+00 0.00000000e+00]\n",
      " [0.00000000e+00 0.00000000e+00 0.00000000e+00 0.00000000e+00]\n",
      " [5.77819624e-02 8.90485642e-02 9.82972592e-01 7.26503735e-03]\n",
      " [1.11851328e-01 1.14688023e-01 9.99722939e-01 1.99563540e-01]\n",
      " [0.00000000e+00 0.00000000e+00 0.00000000e+00 0.00000000e+00]]\n"
     ]
    }
   ],
   "source": [
    "rewards_all_episodes = []\n",
    "\n",
    "# Q-learning algorithm\n",
    "for episode in range(num_episodes):\n",
    "    state = env.reset() # reset game.\n",
    "\n",
    "    done = False\n",
    "    rewards_current_episode = 0 # game hasn't begun yet, so no rewards.\n",
    "\n",
    "    for step in range(max_steps_per_episode):\n",
    "\n",
    "        # Exploration-exploitation trade-off\n",
    "        exploration_rate_threshold = random.uniform(0,1)\n",
    "        # if the exploration_rate_threshold is greater than the exploration_rate, the agent will\n",
    "        #   EXPLOIT the environment, and choose the action that has the highest value in the Q table\n",
    "        #   for the current state. otherwise, the agent will explore the environment and sample \n",
    "        #   an action randomly.\n",
    "        if exploration_rate_threshold > exploration_rate:\n",
    "            action = np.argmax(q_table[state,:])\n",
    "        else:\n",
    "            action = env.action_space.sample()\n",
    "\n",
    "        new_state, reward, done, info = env.step(action)\n",
    "\n",
    "        # Update Q-table for Q(s,a)\n",
    "        q_table[state, action] = q_table[state, action] * (1 - learning_rate) + \\\n",
    "            learning_rate * (reward + discount_rate * np.max(q_table[new_state,:]))\n",
    "\n",
    "        state = new_state\n",
    "        rewards_current_episode += reward\n",
    "\n",
    "        if done == True:\n",
    "            break\n",
    "\n",
    "    # Exploration rate decay\n",
    "    exploration_rate = min_exploration_rate + \\\n",
    "        (max_exploration_rate - min_exploration_rate) * np.exp(-exploration_decay_rate * episode)\n",
    "\n",
    "    rewards_all_episodes.append(rewards_current_episode)\n",
    "\n",
    "# Calculate and print the average reward per thousand episodes\n",
    "rewards_per_thousand_episodes = np.split(np.array(rewards_all_episodes), num_episodes/1000)\n",
    "count = 1000\n",
    "print(\"********Average reward per thousand episodes********\\n\")\n",
    "for r in rewards_per_thousand_episodes:\n",
    "    print(count, \": \", str(sum(r/1000)))\n",
    "    count += 1000\n",
    "\n",
    "# Print updated Q table.\n",
    "print(\"\\n\\n********Q-table********\\n\")\n",
    "print(q_table)"
   ]
  },
  {
   "cell_type": "code",
   "execution_count": 148,
   "metadata": {},
   "outputs": [
    {
     "data": {
      "text/plain": [
       "'for episode in range(5):\\n    state = env.reset()\\n    done = False\\n    print(\"*****EPISODE \", episode+1, \"*****\\n\\n\\n\\n\")\\n    time.sleep(1)\\n\\n    for step in range(max_steps_per_episode):\\n        clear_output(wait=True)\\n        env.render()\\n        time.sleep(0.3)\\n\\n        action = np.argmax(q_table[state,:])\\n        new_state, reward, done, info = env.step(action)\\n\\n        if done:\\n            clear_output(wait=True)\\n            env.render()\\n            if reward == 1:\\n                print(\"****You reached the goal!****\")\\n                time.sleep(3)\\n            else:\\n                print(\"****You fell through a hole :(****\")\\n                time.sleep(3)\\n            clear_output(wait=True)\\n            break\\n\\n        state = new_state\\n\\nenv.close()'"
      ]
     },
     "execution_count": 148,
     "metadata": {},
     "output_type": "execute_result"
    }
   ],
   "source": [
    "'''for episode in range(5):\n",
    "    state = env.reset()\n",
    "    done = False\n",
    "    print(\"*****EPISODE \", episode+1, \"*****\\n\\n\\n\\n\")\n",
    "    time.sleep(1)\n",
    "\n",
    "    for step in range(max_steps_per_episode):\n",
    "        clear_output(wait=True)\n",
    "        env.render()\n",
    "        time.sleep(0.3)\n",
    "\n",
    "        action = np.argmax(q_table[state,:])\n",
    "        new_state, reward, done, info = env.step(action)\n",
    "\n",
    "        if done:\n",
    "            clear_output(wait=True)\n",
    "            env.render()\n",
    "            if reward == 1:\n",
    "                print(\"****You reached the goal!****\")\n",
    "                time.sleep(3)\n",
    "            else:\n",
    "                print(\"****You fell through a hole :(****\")\n",
    "                time.sleep(3)\n",
    "            clear_output(wait=True)\n",
    "            break\n",
    "\n",
    "        state = new_state\n",
    "\n",
    "env.close()'''"
   ]
  }
 ],
 "metadata": {
  "interpreter": {
   "hash": "9a1b174203307a56891531ab56d3143296a9e00346315ec7316f9ec2bc6bd586"
  },
  "kernelspec": {
   "display_name": "Python 3.10.2 64-bit",
   "language": "python",
   "name": "python3"
  },
  "language_info": {
   "codemirror_mode": {
    "name": "ipython",
    "version": 3
   },
   "file_extension": ".py",
   "mimetype": "text/x-python",
   "name": "python",
   "nbconvert_exporter": "python",
   "pygments_lexer": "ipython3",
   "version": "3.10.2"
  },
  "orig_nbformat": 4
 },
 "nbformat": 4,
 "nbformat_minor": 2
}
