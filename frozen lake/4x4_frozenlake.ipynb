{
 "cells": [
  {
   "cell_type": "code",
   "execution_count": 440,
   "metadata": {},
   "outputs": [],
   "source": [
    "import numpy as np\n",
    "import gym\n",
    "import random\n",
    "import time\n",
    "from IPython.display import clear_output\n",
    "import matplotlib.pyplot as plt\n",
    "#from gym.envs.toy_text.frozen_lake import generate_random_map"
   ]
  },
  {
   "cell_type": "code",
   "execution_count": 441,
   "metadata": {},
   "outputs": [],
   "source": [
    "env = gym.make(\"FrozenLake-v1\", is_slippery=False, map_name=\"4x4\")"
   ]
  },
  {
   "cell_type": "code",
   "execution_count": 442,
   "metadata": {},
   "outputs": [
    {
     "name": "stdout",
     "output_type": "stream",
     "text": [
      "[[0. 0. 0. 0.]\n",
      " [0. 0. 0. 0.]\n",
      " [0. 0. 0. 0.]\n",
      " [0. 0. 0. 0.]\n",
      " [0. 0. 0. 0.]\n",
      " [0. 0. 0. 0.]\n",
      " [0. 0. 0. 0.]\n",
      " [0. 0. 0. 0.]\n",
      " [0. 0. 0. 0.]\n",
      " [0. 0. 0. 0.]\n",
      " [0. 0. 0. 0.]\n",
      " [0. 0. 0. 0.]\n",
      " [0. 0. 0. 0.]\n",
      " [0. 0. 0. 0.]\n",
      " [0. 0. 0. 0.]\n",
      " [0. 0. 0. 0.]]\n"
     ]
    }
   ],
   "source": [
    "action_space_size = env.action_space.n\n",
    "state_space_size = env.observation_space.n\n",
    "\n",
    "q_table = np.zeros((state_space_size, action_space_size))\n",
    "print(q_table)"
   ]
  },
  {
   "cell_type": "markdown",
   "metadata": {},
   "source": [
    "# EPSILON GREEDY STRATEGY\n",
    "- When <font color = magenta>epsilon = 1</font>, it is 100% certain that the agent will __explore__ the environment.\n",
    "> - As the agent learns more about the environment, <font color = magenta>epsilon</font> will decrease, and the agent will move from __exploring__ to __exploiting__.\n",
    "> > - The rate at which <font color = magenta>epsilon</font> decays is the parameter we call <font color = cyan>exploration_decay_rate</font>.\n",
    "> - The __discount_rate__ determines how much the agent cares about rewards in the future as opposed to right now.\n",
    "> > - If gamma = 0, the agent will only learn about actions that produce an immediate reward."
   ]
  },
  {
   "cell_type": "code",
   "execution_count": 443,
   "metadata": {},
   "outputs": [],
   "source": [
    "num_episodes = 5000 # total number of episodes for the agent to play during training\n",
    "max_steps_per_episode = 100 # maximum number of steps for agent to take within an episode\n",
    "\n",
    "learning_rate = 0.4 # alpha in the eqn. larger alpha = quicker rewards\n",
    "discount_rate = 0.9 # gamma in the eqn.\n",
    "\n",
    "exploration_rate = 1\n",
    "max_exploration_rate = 1\n",
    "min_exploration_rate = 0.01\n",
    "exploration_decay_rate = 0.001 # a smaller decay rate results in the agent getting to rewards quicker."
   ]
  },
  {
   "cell_type": "markdown",
   "metadata": {},
   "source": [
    "### Code below is for running q-table."
   ]
  },
  {
   "cell_type": "code",
   "execution_count": 444,
   "metadata": {},
   "outputs": [
    {
     "data": {
      "text/plain": [
       "'rewards_all_episodes = []\\ny_points = []\\n\\nwhile learning_rate < 1:\\n\\n    # Q-learning algorithm\\n    for episode in range(num_episodes):\\n        state = env.reset() # reset game.\\n\\n        done = False\\n        rewards_current_episode = 0 # game hasn\\'t begun yet, so no rewards.\\n\\n        for step in range(max_steps_per_episode):\\n\\n            # Exploration-exploitation trade-off\\n            exploration_rate_threshold = random.uniform(0,1)\\n            # if the exploration_rate_threshold is greater than the exploration_rate, the agent will\\n            #   EXPLOIT the environment, and choose the action that has the highest value in the Q table\\n            #   for the current state. otherwise, the agent will explore the environment and sample \\n            #   an action randomly.\\n            if exploration_rate_threshold > exploration_rate:\\n                action = np.argmax(q_table[state,:])\\n            else:\\n                action = env.action_space.sample()\\n\\n            new_state, reward, done, info = env.step(action)\\n\\n            # Update Q-table for Q(s,a)\\n            q_table[state, action] = q_table[state, action] * (1 - learning_rate) +                 learning_rate * (reward + discount_rate * np.max(q_table[new_state,:]))\\n\\n            state = new_state\\n            rewards_current_episode += reward\\n\\n            if done == True:\\n                break\\n\\n        # Exploration rate decay\\n        exploration_rate = min_exploration_rate +             (max_exploration_rate - min_exploration_rate) * np.exp(-exploration_decay_rate * episode)\\n\\n        rewards_all_episodes.append(rewards_current_episode)\\n\\n    # Calculate and print the average reward per thousand episodes\\n    rewards_per_thousand_episodes = np.split(np.array(rewards_all_episodes), num_episodes/1000)\\n    count = 1000\\n    yp = []\\n    print(\"********Average reward per thousand episodes********\\n\")\\n    for r in rewards_per_thousand_episodes:\\n        print(count, \": \", str(sum(r/1000)))\\n        yp.append(sum(r/1000))\\n        count += 1000\\n    y_points.append(yp)\\n    print(learning_rate)\\n    learning_rate += 0.1\\n\\n# Print updated Q table.\\nprint(\"\\n\\n********Q-table********\\n\")\\nprint(q_table)\\n\\n# ypoints = np.array([yp_list])\\n#xpoints = np.array([1000,2000,3000,4000,5000])\\nx_points = np.array([1000,2000,3000,4000,5000])\\nlearning_rate = 0.1\\nfor i in range(len(y_points)):\\n    y_arr = np.array(y_points[i])\\n    plt.plot(x_points,y_arr, label=f\"learning_rate = {learning_rate}\")\\n    learning_rate = learning_rate + 0.1\\n\\nplt.xlabel(\"Episodes\")\\nplt.ylabel(\"Rewards\")\\nplt.legend()\\nplt.show()'"
      ]
     },
     "execution_count": 444,
     "metadata": {},
     "output_type": "execute_result"
    }
   ],
   "source": [
    "'''rewards_all_episodes = []\n",
    "y_points = []\n",
    "\n",
    "while learning_rate < 1:\n",
    "\n",
    "    # Q-learning algorithm\n",
    "    for episode in range(num_episodes):\n",
    "        state = env.reset() # reset game.\n",
    "\n",
    "        done = False\n",
    "        rewards_current_episode = 0 # game hasn't begun yet, so no rewards.\n",
    "\n",
    "        for step in range(max_steps_per_episode):\n",
    "\n",
    "            # Exploration-exploitation trade-off\n",
    "            exploration_rate_threshold = random.uniform(0,1)\n",
    "            # if the exploration_rate_threshold is greater than the exploration_rate, the agent will\n",
    "            #   EXPLOIT the environment, and choose the action that has the highest value in the Q table\n",
    "            #   for the current state. otherwise, the agent will explore the environment and sample \n",
    "            #   an action randomly.\n",
    "            if exploration_rate_threshold > exploration_rate:\n",
    "                action = np.argmax(q_table[state,:])\n",
    "            else:\n",
    "                action = env.action_space.sample()\n",
    "\n",
    "            new_state, reward, done, info = env.step(action)\n",
    "\n",
    "            # Update Q-table for Q(s,a)\n",
    "            q_table[state, action] = q_table[state, action] * (1 - learning_rate) + \\\n",
    "                learning_rate * (reward + discount_rate * np.max(q_table[new_state,:]))\n",
    "\n",
    "            state = new_state\n",
    "            rewards_current_episode += reward\n",
    "\n",
    "            if done == True:\n",
    "                break\n",
    "\n",
    "        # Exploration rate decay\n",
    "        exploration_rate = min_exploration_rate + \\\n",
    "            (max_exploration_rate - min_exploration_rate) * np.exp(-exploration_decay_rate * episode)\n",
    "\n",
    "        rewards_all_episodes.append(rewards_current_episode)\n",
    "\n",
    "    # Calculate and print the average reward per thousand episodes\n",
    "    rewards_per_thousand_episodes = np.split(np.array(rewards_all_episodes), num_episodes/1000)\n",
    "    count = 1000\n",
    "    yp = []\n",
    "    print(\"********Average reward per thousand episodes********\\n\")\n",
    "    for r in rewards_per_thousand_episodes:\n",
    "        print(count, \": \", str(sum(r/1000)))\n",
    "        yp.append(sum(r/1000))\n",
    "        count += 1000\n",
    "    y_points.append(yp)\n",
    "    print(learning_rate)\n",
    "    learning_rate += 0.1\n",
    "\n",
    "# Print updated Q table.\n",
    "print(\"\\n\\n********Q-table********\\n\")\n",
    "print(q_table)\n",
    "\n",
    "# ypoints = np.array([yp_list])\n",
    "#xpoints = np.array([1000,2000,3000,4000,5000])\n",
    "x_points = np.array([1000,2000,3000,4000,5000])\n",
    "learning_rate = 0.1\n",
    "for i in range(len(y_points)):\n",
    "    y_arr = np.array(y_points[i])\n",
    "    plt.plot(x_points,y_arr, label=f\"learning_rate = {learning_rate}\")\n",
    "    learning_rate = learning_rate + 0.1\n",
    "\n",
    "plt.xlabel(\"Episodes\")\n",
    "plt.ylabel(\"Rewards\")\n",
    "plt.legend()\n",
    "plt.show()'''"
   ]
  },
  {
   "cell_type": "code",
   "execution_count": 445,
   "metadata": {},
   "outputs": [
    {
     "name": "stdout",
     "output_type": "stream",
     "text": [
      "0.4\n",
      "********Average reward per thousand episodes********\n",
      "\n",
      "1000 :  0.2660000000000002\n",
      "2000 :  0.7340000000000005\n",
      "3000 :  0.9140000000000007\n",
      "4000 :  0.9620000000000007\n",
      "5000 :  0.9800000000000008\n",
      "\n",
      "\n",
      "********Q-table********\n",
      "\n",
      "[[0.531441   0.59049    0.59049    0.531441  ]\n",
      " [0.531441   0.         0.6561     0.59049   ]\n",
      " [0.59049    0.729      0.59049    0.6561    ]\n",
      " [0.6561     0.         0.59047532 0.59048577]\n",
      " [0.59049    0.6561     0.         0.531441  ]\n",
      " [0.         0.         0.         0.        ]\n",
      " [0.         0.81       0.         0.6561    ]\n",
      " [0.         0.         0.         0.        ]\n",
      " [0.6561     0.         0.729      0.59049   ]\n",
      " [0.6561     0.81       0.81       0.        ]\n",
      " [0.729      0.9        0.         0.729     ]\n",
      " [0.         0.         0.         0.        ]\n",
      " [0.         0.         0.         0.        ]\n",
      " [0.         0.81       0.9        0.729     ]\n",
      " [0.81       0.9        1.         0.81      ]\n",
      " [0.         0.         0.         0.        ]]\n"
     ]
    }
   ],
   "source": [
    "rewards_all_episodes = []\n",
    "\n",
    "# Q-learning algorithm\n",
    "for episode in range(num_episodes):\n",
    "    state = env.reset() # reset game.\n",
    "\n",
    "    done = False\n",
    "    rewards_current_episode = 0 # game hasn't begun yet, so no rewards.\n",
    "\n",
    "    for step in range(max_steps_per_episode):\n",
    "\n",
    "        # Exploration-exploitation trade-off\n",
    "        exploration_rate_threshold = random.uniform(0,1)\n",
    "        # if the exploration_rate_threshold is greater than the exploration_rate, the agent will\n",
    "        #   EXPLOIT the environment, and choose the action that has the highest value in the Q table\n",
    "        #   for the current state. otherwise, the agent will explore the environment and sample \n",
    "        #   an action randomly.\n",
    "        if exploration_rate_threshold > exploration_rate:\n",
    "            action = np.argmax(q_table[state,:])\n",
    "        else:\n",
    "            action = env.action_space.sample()\n",
    "\n",
    "        new_state, reward, done, info = env.step(action)\n",
    "\n",
    "        # Update Q-table for Q(s,a)\n",
    "        q_table[state, action] = q_table[state, action] * (1 - learning_rate) + \\\n",
    "            learning_rate * (reward + discount_rate * np.max(q_table[new_state,:]))\n",
    "\n",
    "        state = new_state\n",
    "        rewards_current_episode += reward\n",
    "\n",
    "        if done == True:\n",
    "            break\n",
    "\n",
    "    # Exploration rate decay\n",
    "    exploration_rate = min_exploration_rate + \\\n",
    "        (max_exploration_rate - min_exploration_rate) * np.exp(-exploration_decay_rate * episode)\n",
    "\n",
    "    rewards_all_episodes.append(rewards_current_episode)\n",
    "print(learning_rate)\n",
    "\n",
    "# Calculate and print the average reward per thousand episodes\n",
    "rewards_per_thousand_episodes = np.split(np.array(rewards_all_episodes), num_episodes/1000)\n",
    "count = 1000\n",
    "print(\"********Average reward per thousand episodes********\\n\")\n",
    "for r in rewards_per_thousand_episodes:\n",
    "    print(count, \": \", str(sum(r/1000)))\n",
    "    count += 1000\n",
    "\n",
    "# Print updated Q table.\n",
    "print(\"\\n\\n********Q-table********\\n\")\n",
    "print(q_table)"
   ]
  },
  {
   "cell_type": "markdown",
   "metadata": {},
   "source": [
    "### Code below is for running visual display of the computer as it draws up the q-table."
   ]
  },
  {
   "cell_type": "code",
   "execution_count": 446,
   "metadata": {},
   "outputs": [
    {
     "data": {
      "text/plain": [
       "'rewards_all_episodes = []\\n\\nfor episode in range(num_episodes):\\n    state = env.reset()\\n\\n    done = False\\n    rewards_current_episode = 0\\n    print(\"*****EPISODE \", episode+1, \"*****\\n\\n\\n\\n\")\\n    time.sleep(1)\\n\\n    for step in range(max_steps_per_episode):\\n        exploration_rate_threshold = random.uniform(0,1)\\n\\n        clear_output(wait=True)\\n        env.render()\\n        time.sleep(0.3)\\n        if exploration_rate_threshold > exploration_rate:\\n            action = np.argmax(q_table[state,:])\\n        else:\\n            action = env.action_space.sample()\\n\\n        new_state, reward, done, info = env.step(action)\\n\\n        q_table[state, action] = q_table[state, action] * (1 - learning_rate) +             learning_rate * (reward + discount_rate * np.max(q_table[new_state,:]))\\n\\n        state = new_state\\n        rewards_current_episode += reward\\n\\n        if done == True:\\n            clear_output(wait=True)\\n            env.render()\\n            if reward == 1:\\n                print(\"****You reached the goal!****\")\\n                time.sleep(3)\\n            else:\\n                print(\"****You fell through a hole :(****\")\\n                time.sleep(3)\\n            clear_output(wait=True)\\n            break\\n\\n    # Exploration rate decay\\n    exploration_rate = min_exploration_rate +         (max_exploration_rate - min_exploration_rate) * np.exp(-exploration_decay_rate * episode)\\n\\n    rewards_all_episodes.append(rewards_current_episode)\\n\\n# Calculate and print the average reward per thousand episodes\\nrewards_per_thousand_episodes = np.split(np.array(rewards_all_episodes), num_episodes/1000)\\ncount = 1000\\nprint(\"********Average reward per thousand episodes********\\n\")\\nfor r in rewards_per_thousand_episodes:\\n    print(count, \": \", str(sum(r/1000)))\\n    count += 1000\\n\\n# Print updated Q table.\\nprint(\"\\n\\n********Q-table********\\n\")\\nprint(q_table)'"
      ]
     },
     "execution_count": 446,
     "metadata": {},
     "output_type": "execute_result"
    }
   ],
   "source": [
    "'''rewards_all_episodes = []\n",
    "\n",
    "for episode in range(num_episodes):\n",
    "    state = env.reset()\n",
    "\n",
    "    done = False\n",
    "    rewards_current_episode = 0\n",
    "    print(\"*****EPISODE \", episode+1, \"*****\\n\\n\\n\\n\")\n",
    "    time.sleep(1)\n",
    "\n",
    "    for step in range(max_steps_per_episode):\n",
    "        exploration_rate_threshold = random.uniform(0,1)\n",
    "\n",
    "        clear_output(wait=True)\n",
    "        env.render()\n",
    "        time.sleep(0.3)\n",
    "        if exploration_rate_threshold > exploration_rate:\n",
    "            action = np.argmax(q_table[state,:])\n",
    "        else:\n",
    "            action = env.action_space.sample()\n",
    "\n",
    "        new_state, reward, done, info = env.step(action)\n",
    "\n",
    "        q_table[state, action] = q_table[state, action] * (1 - learning_rate) + \\\n",
    "            learning_rate * (reward + discount_rate * np.max(q_table[new_state,:]))\n",
    "\n",
    "        state = new_state\n",
    "        rewards_current_episode += reward\n",
    "\n",
    "        if done == True:\n",
    "            clear_output(wait=True)\n",
    "            env.render()\n",
    "            if reward == 1:\n",
    "                print(\"****You reached the goal!****\")\n",
    "                time.sleep(3)\n",
    "            else:\n",
    "                print(\"****You fell through a hole :(****\")\n",
    "                time.sleep(3)\n",
    "            clear_output(wait=True)\n",
    "            break\n",
    "\n",
    "    # Exploration rate decay\n",
    "    exploration_rate = min_exploration_rate + \\\n",
    "        (max_exploration_rate - min_exploration_rate) * np.exp(-exploration_decay_rate * episode)\n",
    "\n",
    "    rewards_all_episodes.append(rewards_current_episode)\n",
    "\n",
    "# Calculate and print the average reward per thousand episodes\n",
    "rewards_per_thousand_episodes = np.split(np.array(rewards_all_episodes), num_episodes/1000)\n",
    "count = 1000\n",
    "print(\"********Average reward per thousand episodes********\\n\")\n",
    "for r in rewards_per_thousand_episodes:\n",
    "    print(count, \": \", str(sum(r/1000)))\n",
    "    count += 1000\n",
    "\n",
    "# Print updated Q table.\n",
    "print(\"\\n\\n********Q-table********\\n\")\n",
    "print(q_table)'''"
   ]
  },
  {
   "cell_type": "markdown",
   "metadata": {},
   "source": [
    "### Code below is for running visual display."
   ]
  },
  {
   "cell_type": "code",
   "execution_count": 447,
   "metadata": {},
   "outputs": [
    {
     "data": {
      "text/plain": [
       "'for episode in range(10):\\n    state = env.reset()\\n    done = False\\n    print(\"*****EPISODE \", episode+1, \"*****\\n\\n\\n\\n\")\\n    time.sleep(1)\\n\\n    for step in range(max_steps_per_episode):\\n        clear_output(wait=True)\\n        env.render()\\n        time.sleep(0.3)\\n\\n        action = np.argmax(q_table[state,:])\\n        new_state, reward, done, info = env.step(action)\\n\\n        if done:\\n            clear_output(wait=True)\\n            env.render()\\n            if reward == 1:\\n                print(\"****You reached the goal!****\")\\n                time.sleep(3)\\n            else:\\n                print(\"****You fell through a hole :(****\")\\n                time.sleep(3)\\n            clear_output(wait=True)\\n            break\\n\\n        state = new_state\\n\\nenv.close()'"
      ]
     },
     "execution_count": 447,
     "metadata": {},
     "output_type": "execute_result"
    }
   ],
   "source": [
    "'''for episode in range(10):\n",
    "    state = env.reset()\n",
    "    done = False\n",
    "    print(\"*****EPISODE \", episode+1, \"*****\\n\\n\\n\\n\")\n",
    "    time.sleep(1)\n",
    "\n",
    "    for step in range(max_steps_per_episode):\n",
    "        clear_output(wait=True)\n",
    "        env.render()\n",
    "        time.sleep(0.3)\n",
    "\n",
    "        action = np.argmax(q_table[state,:])\n",
    "        new_state, reward, done, info = env.step(action)\n",
    "\n",
    "        if done:\n",
    "            clear_output(wait=True)\n",
    "            env.render()\n",
    "            if reward == 1:\n",
    "                print(\"****You reached the goal!****\")\n",
    "                time.sleep(3)\n",
    "            else:\n",
    "                print(\"****You fell through a hole :(****\")\n",
    "                time.sleep(3)\n",
    "            clear_output(wait=True)\n",
    "            break\n",
    "\n",
    "        state = new_state\n",
    "\n",
    "env.close()'''"
   ]
  }
 ],
 "metadata": {
  "interpreter": {
   "hash": "9a1b174203307a56891531ab56d3143296a9e00346315ec7316f9ec2bc6bd586"
  },
  "kernelspec": {
   "display_name": "Python 3.10.2 64-bit",
   "language": "python",
   "name": "python3"
  },
  "language_info": {
   "codemirror_mode": {
    "name": "ipython",
    "version": 3
   },
   "file_extension": ".py",
   "mimetype": "text/x-python",
   "name": "python",
   "nbconvert_exporter": "python",
   "pygments_lexer": "ipython3",
   "version": "3.10.2"
  },
  "orig_nbformat": 4
 },
 "nbformat": 4,
 "nbformat_minor": 2
}
