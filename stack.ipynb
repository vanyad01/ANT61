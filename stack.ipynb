{
 "cells": [
  {
   "cell_type": "code",
   "execution_count": 11,
   "metadata": {},
   "outputs": [
    {
     "name": "stdout",
     "output_type": "stream",
     "text": [
      "-3\n",
      "[50, 20, -5]\n",
      "50\n"
     ]
    }
   ],
   "source": [
    "# define 2 stacks- stack_main holds all elements being pushed, and stack_max holds only the maximum elements per operation.\n",
    "stack_main = []\n",
    "stack_max = []\n",
    "\n",
    "# add an element to the main stack.\n",
    "def push(element):\n",
    "    # add the element to the top of the stack.\n",
    "    stack_main.append(element)\n",
    "    # if there's nothing already in the stack, then automatically append to the maximum stack.\n",
    "    if stack_max == []:\n",
    "        stack_max.append(element)\n",
    "    else:\n",
    "        # if the new element is the largest number in the stack, add it to the top of the maximum stack.\n",
    "        current_max = stack_max[-1]\n",
    "        if current_max <= element:\n",
    "            stack_max.append(element)\n",
    "        # otherwise, re-add the current maximum number to the maximum stack.\n",
    "        else:\n",
    "            stack_max.append(current_max)\n",
    "    return\n",
    "\n",
    "# remove the topmost number in the main stack.\n",
    "def pop():\n",
    "    element = stack_main.pop()\n",
    "    stack_max.pop()\n",
    "    return element\n",
    "\n",
    "# find the largest number in the main stack, i.e. the topmost number in the maximum stack.\n",
    "def max():\n",
    "    maximum = stack_max[-1]\n",
    "    return maximum\n",
    "\n",
    "\n",
    "push(50)\n",
    "push(20)\n",
    "push(-3)\n",
    "print(pop())\n",
    "push(-5)\n",
    "print(stack_main)\n",
    "print(max())"
   ]
  },
  {
   "cell_type": "code",
   "execution_count": null,
   "metadata": {},
   "outputs": [],
   "source": []
  }
 ],
 "metadata": {
  "interpreter": {
   "hash": "9a1b174203307a56891531ab56d3143296a9e00346315ec7316f9ec2bc6bd586"
  },
  "kernelspec": {
   "display_name": "Python 3.10.2 64-bit",
   "language": "python",
   "name": "python3"
  },
  "language_info": {
   "codemirror_mode": {
    "name": "ipython",
    "version": 3
   },
   "file_extension": ".py",
   "mimetype": "text/x-python",
   "name": "python",
   "nbconvert_exporter": "python",
   "pygments_lexer": "ipython3",
   "version": "3.10.2"
  },
  "orig_nbformat": 4
 },
 "nbformat": 4,
 "nbformat_minor": 2
}
