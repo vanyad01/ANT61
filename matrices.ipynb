{
 "cells": [
  {
   "cell_type": "markdown",
   "metadata": {},
   "source": [
    "1. You are given a matrix of random numbers, you need to output the matrix where odd rows are swapped with even rows in the original matrix."
   ]
  },
  {
   "cell_type": "code",
   "execution_count": 4,
   "metadata": {},
   "outputs": [
    {
     "name": "stdout",
     "output_type": "stream",
     "text": [
      "Original matrix was:\n",
      " [[1 2 3]\n",
      " [4 5 6]\n",
      " [7 8 9]]\n",
      "\n",
      "Swapped matrix is:\n",
      " [[4 5 6]\n",
      " [1 2 3]\n",
      " [7 8 9]]\n"
     ]
    }
   ],
   "source": [
    "import numpy as np\n",
    "\n",
    "def swap_rows(mtx):\n",
    "    # find the number of rows and columns.\n",
    "    num_rows = mtx.shape[0]\n",
    "    # define a new matrix to put the swapped rows in. note that this isn't a numpy array, but a regular list.\n",
    "    swapped_mtx = []\n",
    "    # swap each odd row with the succeeding even row.\n",
    "    for i in range(0,num_rows-1,2):\n",
    "        swapped_mtx.append(mtx[i+1])\n",
    "        swapped_mtx.append(mtx[i])\n",
    "    # if there was an odd number of rows, the last row won't have another row to swap with and may get left off\n",
    "    #   the final swapped matrix-- avoid this by adding the last row automatically when there's an odd amount of rows.\n",
    "    if ((num_rows % 2) != 0):\n",
    "        swapped_mtx.append(mtx[-1])\n",
    "    # convert the list into a numpy array.\n",
    "    s_mtx = np.array(swapped_mtx)\n",
    "    return s_mtx\n",
    "\n",
    "mtx = np.array([[1,2,3],[4,5,6],[7,8,9]])\n",
    "print(f\"Original matrix was:\\n {mtx}\\n\")\n",
    "print(f\"Swapped matrix is:\\n {swap_rows(mtx)}\")\n"
   ]
  },
  {
   "cell_type": "markdown",
   "metadata": {},
   "source": [
    "2. You are given a matrix of random numbers, you need to find the number of the column which has the biggest number"
   ]
  },
  {
   "cell_type": "code",
   "execution_count": 45,
   "metadata": {},
   "outputs": [
    {
     "name": "stdout",
     "output_type": "stream",
     "text": [
      "The original matrix was:\n",
      " [[11  2  1]\n",
      " [11 11 11]\n",
      " [ 6  4  2]]\n",
      "The largest number was 11, and it was found in columns 1, 2, and 3.\n"
     ]
    }
   ],
   "source": [
    "import numpy as np\n",
    "\n",
    "def biggest_num(mtx):\n",
    "    # find the number of rows and columns.\n",
    "    num_rows = mtx.shape[0]\n",
    "    num_cols = mtx.shape[1]\n",
    "    # set the max_num immediately to be equal to the value of the first cell in the matrix.\n",
    "    max_num = mtx[0][0]\n",
    "    col_nums = []\n",
    "    # loop through the matrix to find the largest number.\n",
    "    for i in range(num_rows):\n",
    "        for j in range(num_cols):\n",
    "            if (mtx[i][j] >= max_num):\n",
    "                max_num = mtx[i][j]\n",
    "    \n",
    "    # loop through the matrix again to record the column number of each appearance of the max. number.\n",
    "    #   add \"+1\" to the column number because the loop begins at 0, but intuitively, we count the columns\n",
    "    #   starting at 1 from the leftmost side.\n",
    "    for i in range(num_rows):\n",
    "        for j in range(num_cols):\n",
    "            if (mtx[i][j] == max_num):\n",
    "                col_nums.append(j+1)\n",
    "\n",
    "    # turn the list into a dictionary to remove any repeated columns (dictionaries can't contain repeated keys).\n",
    "    col_nums = list(dict.fromkeys(col_nums))\n",
    "\n",
    "    results = [max_num, col_nums]\n",
    "    \n",
    "    return results\n",
    "\n",
    "mtx = np.array([[11,2,1],[11,11,11],[6,4,2]])\n",
    "print(f\"The original matrix was:\\n {mtx}\")\n",
    "results = biggest_num(mtx)\n",
    "max_num = results[0]\n",
    "col_num = results[1]\n",
    "\n",
    "if (len(col_num) == 1):\n",
    "    print(f\"The largest number was {max_num}, and it was found in column {col_num}.\")\n",
    "elif (len(col_num) == 2):\n",
    "    print(f\"The largest number was {max_num}, and it was found in columns {col_num[0]} and {col_num[1]}.\")\n",
    "else:\n",
    "    # 'end = \"\", flush = True' removes the automatic newline that gets printed after a string.\n",
    "    # the flush() method clears the internal buffer of the file\n",
    "    # the print() function comes with a parameter called end which is defaulted to print a newline\n",
    "    #    after a string. forcing this parameter to an empty string removes the newline.\n",
    "    print(f\"The largest number was {max_num}, and it was found in columns \", end = \"\")\n",
    "    for i in range(len(col_num)-1):\n",
    "        print(str(col_num[i]) + \", \", end = \"\")\n",
    "    print(f\"and {col_num[-1]}.\")"
   ]
  },
  {
   "cell_type": "markdown",
   "metadata": {},
   "source": [
    "3. You are given a matrix of random numbers, you need to find the number of the column which has the biggest sum of numbers."
   ]
  },
  {
   "cell_type": "code",
   "execution_count": 62,
   "metadata": {},
   "outputs": [
    {
     "name": "stdout",
     "output_type": "stream",
     "text": [
      "The original matrix was:\n",
      " [[11 11 11  1]\n",
      " [11  8 11  1]\n",
      " [11 11 11  1]]\n",
      "Columns 1 and 3 had the largest sum with 33.\n"
     ]
    }
   ],
   "source": [
    "import numpy as np\n",
    "\n",
    "def biggest_sum(mtx):\n",
    "    # find the number of rows and columns.\n",
    "    num_rows = mtx.shape[0]\n",
    "    num_cols = mtx.shape[1]\n",
    "\n",
    "    sum = 0\n",
    "    sum_list = []\n",
    "    # loop through each column to find the sum of them, and add them to a list.\n",
    "    for i in range(num_cols):\n",
    "        for j in range(num_rows):\n",
    "            sum = sum + mtx[j][i]\n",
    "        sum_list.append(sum)\n",
    "        sum = 0\n",
    "    \n",
    "    # loop through the list of sums to find the largest one.\n",
    "    # since the list is chronological order according to the column order, the position of the\n",
    "    #   largest number in the sum list corresponds to the column index.\n",
    "    max_sum = sum_list[0]\n",
    "    for i in range(len(sum_list)):\n",
    "        if (sum_list[i] >= max_sum):\n",
    "            max_sum = sum_list[i]\n",
    "\n",
    "    # find the indices of the columns that have the largest sums.\n",
    "    col_list = []\n",
    "    for i in range(len(sum_list)):\n",
    "        if (sum_list[i] == max_sum):\n",
    "            col_list.append(i+1)\n",
    "\n",
    "    results = [max_sum, col_list]\n",
    "    \n",
    "    return results\n",
    "\n",
    "mtx = np.array([[11,11,11,1],[11,8,11,1],[11,11,11,1]])\n",
    "print(f\"The original matrix was:\\n {mtx}\")\n",
    "results = biggest_sum(mtx)\n",
    "max_sum = results[0]\n",
    "col_num = results[1]\n",
    "\n",
    "if (len(col_num) == 1):\n",
    "    print(f\"Column {col_num[0]} had the largest sum with {max_sum}.\")\n",
    "elif (len(col_num) == 2):\n",
    "    print(f\"Columns {col_num[0]} and {col_num[1]} had the largest sum with {max_sum}.\")\n",
    "else:\n",
    "    print(f\"Columns \", end = \"\")\n",
    "    for i in range(len(col_num)-1):\n",
    "        print(str(col_num[i]) + \", \", end = \"\")\n",
    "    print(f\"and {col_num[-1]} had the largest sum with {max_sum}.\")"
   ]
  },
  {
   "cell_type": "markdown",
   "metadata": {},
   "source": [
    "4. You are given a matrix of random numbers, you need to find the number of the column which has the biggest median of numbers."
   ]
  },
  {
   "cell_type": "code",
   "execution_count": 64,
   "metadata": {},
   "outputs": [
    {
     "name": "stdout",
     "output_type": "stream",
     "text": [
      "The original matrix was:\n",
      " [[11 12 11  9]\n",
      " [11  8 10  3]\n",
      " [11 12 11  2]]\n",
      "Column 2 had the largest median with 12.\n"
     ]
    }
   ],
   "source": [
    "import numpy as np\n",
    "import statistics as stats\n",
    "\n",
    "def biggest_median(mtx):\n",
    "    # find the number of rows and columns.\n",
    "    num_rows = mtx.shape[0]\n",
    "    num_cols = mtx.shape[1]\n",
    "\n",
    "    median = 0\n",
    "    data_list = []\n",
    "    median_list = []\n",
    "    # loop through each column and record the values in a single column in a new data list.\n",
    "    # use this data list as the data for the median() method from the statistics library, and\n",
    "    #    add the calculated mean to a list of medians. \n",
    "    # clear the data list for the next column.\n",
    "    for i in range(num_cols):\n",
    "        for j in range(num_rows):\n",
    "            data_list.append(mtx[j][i])\n",
    "        median = stats.median(data_list)\n",
    "        median_list.append(median)\n",
    "        data_list = []\n",
    "    \n",
    "    # loop through the list of medians to find the largest one.\n",
    "    max_median = median_list[0]\n",
    "    for i in range(len(median_list)):\n",
    "        if (median_list[i] >= max_median):\n",
    "            max_median = median_list[i]\n",
    "\n",
    "    col_list = []\n",
    "    for i in range(len(median_list)):\n",
    "        if (median_list[i] == max_median):\n",
    "            col_list.append(i+1)\n",
    "\n",
    "    results = [max_median, col_list]\n",
    "    \n",
    "    return results\n",
    "\n",
    "mtx = np.array([[11,12,11,9],[11,8,10,3],[11,12,11,2]])\n",
    "print(f\"The original matrix was:\\n {mtx}\")\n",
    "results = biggest_median(mtx)\n",
    "max_median = results[0]\n",
    "col_num = results[1]\n",
    "\n",
    "if (len(col_num) == 1):\n",
    "    print(f\"Column {col_num[0]} had the largest median with {max_median}.\")\n",
    "elif (len(col_num) == 2):\n",
    "    print(f\"Columns {col_num[0]} and {col_num[1]} had the largest median with {max_median}.\")\n",
    "else:\n",
    "    print(f\"Columns \", end = \"\")\n",
    "    for i in range(len(col_num)-1):\n",
    "        print(str(col_num[i]) + \", \", end = \"\")\n",
    "    print(f\"and {col_num[-1]} had the largest median with {max_median}.\")"
   ]
  }
 ],
 "metadata": {
  "interpreter": {
   "hash": "9a1b174203307a56891531ab56d3143296a9e00346315ec7316f9ec2bc6bd586"
  },
  "kernelspec": {
   "display_name": "Python 3.10.2 64-bit",
   "language": "python",
   "name": "python3"
  },
  "language_info": {
   "codemirror_mode": {
    "name": "ipython",
    "version": 3
   },
   "file_extension": ".py",
   "mimetype": "text/x-python",
   "name": "python",
   "nbconvert_exporter": "python",
   "pygments_lexer": "ipython3",
   "version": "3.10.2"
  },
  "orig_nbformat": 4
 },
 "nbformat": 4,
 "nbformat_minor": 2
}
