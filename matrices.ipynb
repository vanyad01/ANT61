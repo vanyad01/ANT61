{
 "cells": [
  {
   "cell_type": "code",
   "execution_count": 2,
   "metadata": {},
   "outputs": [],
   "source": [
    "import numpy as np"
   ]
  },
  {
   "cell_type": "markdown",
   "metadata": {},
   "source": [
    "1. You are given a matrix of random numbers, you need to output the matrix where odd rows are swapped with even rows in the original matrix."
   ]
  },
  {
   "cell_type": "code",
   "execution_count": 3,
   "metadata": {},
   "outputs": [
    {
     "name": "stdout",
     "output_type": "stream",
     "text": [
      "Original matrix was:\n",
      " [[ 1  2  3]\n",
      " [ 4  5  6]\n",
      " [ 7  8  9]\n",
      " [10 11 12]]\n",
      "\n",
      "Swapped matrix is:\n",
      " [[ 4  5  6]\n",
      " [ 1  2  3]\n",
      " [10 11 12]\n",
      " [ 7  8  9]]\n"
     ]
    }
   ],
   "source": [
    "def swap_rows(mtx):\n",
    "    # find the number of rows and columns.\n",
    "    num_rows = mtx.shape[0]\n",
    "    # define a new matrix to put the swapped rows in. note that this isn't a numpy array, but a regular list.\n",
    "    swapped_mtx = []\n",
    "    # swap each odd row with the succeeding even row.\n",
    "    for i in range(0,num_rows-1,2):\n",
    "        swapped_mtx.append(mtx[i+1])\n",
    "        swapped_mtx.append(mtx[i])\n",
    "    # if there was an odd number of rows, the last row won't have another row to swap with and may get left off\n",
    "    #   the final swapped matrix-- avoid this by adding the last row automatically when there's an odd amount of rows.\n",
    "    if num_rows % 2 != 0:\n",
    "        swapped_mtx.append(mtx[-1])\n",
    "    # convert the list into a numpy array.\n",
    "    s_mtx = np.array(swapped_mtx)\n",
    "    return s_mtx\n",
    "\n",
    "mtx = np.array([[1,2,3],[4,5,6],[7,8,9],[10,11,12]])\n",
    "print(f\"Original matrix was:\\n {mtx}\\n\")\n",
    "print(f\"Swapped matrix is:\\n {swap_rows(mtx)}\")\n"
   ]
  }
 ],
 "metadata": {
  "interpreter": {
   "hash": "9a1b174203307a56891531ab56d3143296a9e00346315ec7316f9ec2bc6bd586"
  },
  "kernelspec": {
   "display_name": "Python 3.10.2 64-bit",
   "language": "python",
   "name": "python3"
  },
  "language_info": {
   "codemirror_mode": {
    "name": "ipython",
    "version": 3
   },
   "file_extension": ".py",
   "mimetype": "text/x-python",
   "name": "python",
   "nbconvert_exporter": "python",
   "pygments_lexer": "ipython3",
   "version": "3.10.2"
  },
  "orig_nbformat": 4
 },
 "nbformat": 4,
 "nbformat_minor": 2
}
