{
 "cells": [
  {
   "cell_type": "code",
   "execution_count": 1,
   "metadata": {},
   "outputs": [],
   "source": [
    "import numpy as np\n",
    "import gym\n",
    "import time\n",
    "import math"
   ]
  },
  {
   "cell_type": "code",
   "execution_count": 2,
   "metadata": {},
   "outputs": [
    {
     "name": "stdout",
     "output_type": "stream",
     "text": [
      "2\n"
     ]
    }
   ],
   "source": [
    "env = gym.make(\"CartPole-v1\")\n",
    "print(env.action_space.n)"
   ]
  },
  {
   "cell_type": "code",
   "execution_count": 3,
   "metadata": {},
   "outputs": [],
   "source": [
    "num_episodes = 60000\n",
    "\n",
    "learning_rate = 0.1\n",
    "DISCOUNT = 0.95\n",
    "\n",
    "total = 0\n",
    "total_reward = 0\n",
    "prior_reward = 0\n",
    "\n",
    "Observation = [30, 30, 50, 50]\n",
    "np_array_win_size = np.array([0.25, 0.25, 0.01, 0.1])\n",
    "\n",
    "epsilon = 1\n",
    "\n",
    "epsilon_decay_value = 0.99995"
   ]
  },
  {
   "cell_type": "code",
   "execution_count": 4,
   "metadata": {},
   "outputs": [
    {
     "data": {
      "text/plain": [
       "(30, 30, 50, 50, 2)"
      ]
     },
     "execution_count": 4,
     "metadata": {},
     "output_type": "execute_result"
    }
   ],
   "source": [
    "q_table = np.random.uniform(low=0, high=1, size=(Observation + [env.action_space.n]))\n",
    "q_table.shape"
   ]
  },
  {
   "cell_type": "code",
   "execution_count": 5,
   "metadata": {},
   "outputs": [],
   "source": [
    "# function to get the discrete state\n",
    "def get_discrete_state(state):\n",
    "    discrete_state = state/np_array_win_size+ np.array([15,10,1,10])\n",
    "    return tuple(discrete_state.astype(np.int))"
   ]
  },
  {
   "cell_type": "code",
   "execution_count": 6,
   "metadata": {},
   "outputs": [
    {
     "name": "stderr",
     "output_type": "stream",
     "text": [
      "C:\\Users\\vanya\\AppData\\Local\\Temp\\ipykernel_1452\\1161345954.py:4: DeprecationWarning: `np.int` is a deprecated alias for the builtin `int`. To silence this warning, use `int` by itself. Doing this will not modify any behavior and is safe. When replacing `np.int`, you may wish to use e.g. `np.int64` or `np.int32` to specify the precision. If you wish to review your current use, check the release note link for additional information.\n",
      "Deprecated in NumPy 1.20; for more details and guidance: https://numpy.org/devdocs/release/1.20.0-notes.html#deprecations\n",
      "  return tuple(discrete_state.astype(np.int))\n"
     ]
    },
    {
     "name": "stdout",
     "output_type": "stream",
     "text": [
      "Episode: 0\n",
      "Time Average: 0.0010618557929992676\n",
      "Mean Reward: 0.015\n",
      "Time Average: 0.0008895134925842285\n",
      "Mean Reward: 22.162\n",
      "Episode: 2000\n",
      "Time Average: 0.0012767744064331055\n",
      "Mean Reward: 21.926\n",
      "Time Average: 0.0008798174858093262\n",
      "Mean Reward: 21.958\n",
      "Episode: 4000\n",
      "Time Average: 0.0011648299694061279\n",
      "Mean Reward: 23.16\n",
      "Time Average: 0.0009086220264434814\n",
      "Mean Reward: 22.439\n",
      "Episode: 6000\n"
     ]
    },
    {
     "ename": "KeyboardInterrupt",
     "evalue": "",
     "output_type": "error",
     "traceback": [
      "\u001b[1;31m---------------------------------------------------------------------------\u001b[0m",
      "\u001b[1;31mKeyboardInterrupt\u001b[0m                         Traceback (most recent call last)",
      "\u001b[1;32mc:\\Users\\vanya\\OneDrive\\Desktop\\ANT61\\cart pole\\cartpole_v1.ipynb Cell 6'\u001b[0m in \u001b[0;36m<cell line: 1>\u001b[1;34m()\u001b[0m\n\u001b[0;32m     <a href='vscode-notebook-cell:/c%3A/Users/vanya/OneDrive/Desktop/ANT61/cart%20pole/cartpole_v1.ipynb#ch0000005?line=22'>23</a>\u001b[0m new_discrete_state \u001b[39m=\u001b[39m get_discrete_state(new_state)\n\u001b[0;32m     <a href='vscode-notebook-cell:/c%3A/Users/vanya/OneDrive/Desktop/ANT61/cart%20pole/cartpole_v1.ipynb#ch0000005?line=24'>25</a>\u001b[0m \u001b[39mif\u001b[39;00m episode \u001b[39m%\u001b[39m \u001b[39m2000\u001b[39m \u001b[39m==\u001b[39m \u001b[39m0\u001b[39m: \u001b[39m#render\u001b[39;00m\n\u001b[1;32m---> <a href='vscode-notebook-cell:/c%3A/Users/vanya/OneDrive/Desktop/ANT61/cart%20pole/cartpole_v1.ipynb#ch0000005?line=25'>26</a>\u001b[0m     env\u001b[39m.\u001b[39;49mrender()\n\u001b[0;32m     <a href='vscode-notebook-cell:/c%3A/Users/vanya/OneDrive/Desktop/ANT61/cart%20pole/cartpole_v1.ipynb#ch0000005?line=27'>28</a>\u001b[0m \u001b[39mif\u001b[39;00m \u001b[39mnot\u001b[39;00m done: \u001b[39m#update q-table\u001b[39;00m\n\u001b[0;32m     <a href='vscode-notebook-cell:/c%3A/Users/vanya/OneDrive/Desktop/ANT61/cart%20pole/cartpole_v1.ipynb#ch0000005?line=28'>29</a>\u001b[0m     max_future_q \u001b[39m=\u001b[39m np\u001b[39m.\u001b[39mmax(q_table[new_discrete_state])\n",
      "File \u001b[1;32mc:\\Users\\vanya\\AppData\\Local\\Programs\\Python\\Python310\\lib\\site-packages\\gym\\core.py:295\u001b[0m, in \u001b[0;36mWrapper.render\u001b[1;34m(self, mode, **kwargs)\u001b[0m\n\u001b[0;32m    <a href='file:///c%3A/Users/vanya/AppData/Local/Programs/Python/Python310/lib/site-packages/gym/core.py?line=293'>294</a>\u001b[0m \u001b[39mdef\u001b[39;00m \u001b[39mrender\u001b[39m(\u001b[39mself\u001b[39m, mode\u001b[39m=\u001b[39m\u001b[39m\"\u001b[39m\u001b[39mhuman\u001b[39m\u001b[39m\"\u001b[39m, \u001b[39m*\u001b[39m\u001b[39m*\u001b[39mkwargs):\n\u001b[1;32m--> <a href='file:///c%3A/Users/vanya/AppData/Local/Programs/Python/Python310/lib/site-packages/gym/core.py?line=294'>295</a>\u001b[0m     \u001b[39mreturn\u001b[39;00m \u001b[39mself\u001b[39m\u001b[39m.\u001b[39menv\u001b[39m.\u001b[39mrender(mode, \u001b[39m*\u001b[39m\u001b[39m*\u001b[39mkwargs)\n",
      "File \u001b[1;32mc:\\Users\\vanya\\AppData\\Local\\Programs\\Python\\Python310\\lib\\site-packages\\gym\\envs\\classic_control\\cartpole.py:229\u001b[0m, in \u001b[0;36mCartPoleEnv.render\u001b[1;34m(self, mode)\u001b[0m\n\u001b[0;32m    <a href='file:///c%3A/Users/vanya/AppData/Local/Programs/Python/Python310/lib/site-packages/gym/envs/classic_control/cartpole.py?line=225'>226</a>\u001b[0m \u001b[39mself\u001b[39m\u001b[39m.\u001b[39mcarttrans\u001b[39m.\u001b[39mset_translation(cartx, carty)\n\u001b[0;32m    <a href='file:///c%3A/Users/vanya/AppData/Local/Programs/Python/Python310/lib/site-packages/gym/envs/classic_control/cartpole.py?line=226'>227</a>\u001b[0m \u001b[39mself\u001b[39m\u001b[39m.\u001b[39mpoletrans\u001b[39m.\u001b[39mset_rotation(\u001b[39m-\u001b[39mx[\u001b[39m2\u001b[39m])\n\u001b[1;32m--> <a href='file:///c%3A/Users/vanya/AppData/Local/Programs/Python/Python310/lib/site-packages/gym/envs/classic_control/cartpole.py?line=228'>229</a>\u001b[0m \u001b[39mreturn\u001b[39;00m \u001b[39mself\u001b[39;49m\u001b[39m.\u001b[39;49mviewer\u001b[39m.\u001b[39;49mrender(return_rgb_array\u001b[39m=\u001b[39;49mmode \u001b[39m==\u001b[39;49m \u001b[39m\"\u001b[39;49m\u001b[39mrgb_array\u001b[39;49m\u001b[39m\"\u001b[39;49m)\n",
      "File \u001b[1;32mc:\\Users\\vanya\\AppData\\Local\\Programs\\Python\\Python310\\lib\\site-packages\\gym\\envs\\classic_control\\rendering.py:145\u001b[0m, in \u001b[0;36mViewer.render\u001b[1;34m(self, return_rgb_array)\u001b[0m\n\u001b[0;32m    <a href='file:///c%3A/Users/vanya/AppData/Local/Programs/Python/Python310/lib/site-packages/gym/envs/classic_control/rendering.py?line=142'>143</a>\u001b[0m     arr \u001b[39m=\u001b[39m arr\u001b[39m.\u001b[39mreshape(buffer\u001b[39m.\u001b[39mheight, buffer\u001b[39m.\u001b[39mwidth, \u001b[39m4\u001b[39m)\n\u001b[0;32m    <a href='file:///c%3A/Users/vanya/AppData/Local/Programs/Python/Python310/lib/site-packages/gym/envs/classic_control/rendering.py?line=143'>144</a>\u001b[0m     arr \u001b[39m=\u001b[39m arr[::\u001b[39m-\u001b[39m\u001b[39m1\u001b[39m, :, \u001b[39m0\u001b[39m:\u001b[39m3\u001b[39m]\n\u001b[1;32m--> <a href='file:///c%3A/Users/vanya/AppData/Local/Programs/Python/Python310/lib/site-packages/gym/envs/classic_control/rendering.py?line=144'>145</a>\u001b[0m \u001b[39mself\u001b[39;49m\u001b[39m.\u001b[39;49mwindow\u001b[39m.\u001b[39;49mflip()\n\u001b[0;32m    <a href='file:///c%3A/Users/vanya/AppData/Local/Programs/Python/Python310/lib/site-packages/gym/envs/classic_control/rendering.py?line=145'>146</a>\u001b[0m \u001b[39mself\u001b[39m\u001b[39m.\u001b[39monetime_geoms \u001b[39m=\u001b[39m []\n\u001b[0;32m    <a href='file:///c%3A/Users/vanya/AppData/Local/Programs/Python/Python310/lib/site-packages/gym/envs/classic_control/rendering.py?line=146'>147</a>\u001b[0m \u001b[39mreturn\u001b[39;00m arr \u001b[39mif\u001b[39;00m return_rgb_array \u001b[39melse\u001b[39;00m \u001b[39mself\u001b[39m\u001b[39m.\u001b[39misopen\n",
      "File \u001b[1;32mc:\\Users\\vanya\\AppData\\Local\\Programs\\Python\\Python310\\lib\\site-packages\\pyglet\\window\\win32\\__init__.py:383\u001b[0m, in \u001b[0;36mWin32Window.flip\u001b[1;34m(self)\u001b[0m\n\u001b[0;32m    <a href='file:///c%3A/Users/vanya/AppData/Local/Programs/Python/Python310/lib/site-packages/pyglet/window/win32/__init__.py?line=380'>381</a>\u001b[0m     \u001b[39mif\u001b[39;00m \u001b[39mself\u001b[39m\u001b[39m.\u001b[39m_always_dwm \u001b[39mor\u001b[39;00m \u001b[39mself\u001b[39m\u001b[39m.\u001b[39m_dwm_composition_enabled():\n\u001b[0;32m    <a href='file:///c%3A/Users/vanya/AppData/Local/Programs/Python/Python310/lib/site-packages/pyglet/window/win32/__init__.py?line=381'>382</a>\u001b[0m         \u001b[39mif\u001b[39;00m \u001b[39mself\u001b[39m\u001b[39m.\u001b[39m_interval:\n\u001b[1;32m--> <a href='file:///c%3A/Users/vanya/AppData/Local/Programs/Python/Python310/lib/site-packages/pyglet/window/win32/__init__.py?line=382'>383</a>\u001b[0m             _dwmapi\u001b[39m.\u001b[39;49mDwmFlush()\n\u001b[0;32m    <a href='file:///c%3A/Users/vanya/AppData/Local/Programs/Python/Python310/lib/site-packages/pyglet/window/win32/__init__.py?line=384'>385</a>\u001b[0m \u001b[39mif\u001b[39;00m \u001b[39mself\u001b[39m\u001b[39m.\u001b[39mstyle \u001b[39min\u001b[39;00m (\u001b[39m'\u001b[39m\u001b[39moverlay\u001b[39m\u001b[39m'\u001b[39m, \u001b[39m'\u001b[39m\u001b[39mtransparent\u001b[39m\u001b[39m'\u001b[39m):\n\u001b[0;32m    <a href='file:///c%3A/Users/vanya/AppData/Local/Programs/Python/Python310/lib/site-packages/pyglet/window/win32/__init__.py?line=385'>386</a>\u001b[0m     \u001b[39mself\u001b[39m\u001b[39m.\u001b[39mupdate_transparency()\n",
      "\u001b[1;31mKeyboardInterrupt\u001b[0m: "
     ]
    },
    {
     "ename": "",
     "evalue": "",
     "output_type": "error",
     "traceback": [
      "\u001b[1;31mThe Kernel crashed while executing code in the the current cell or a previous cell. Please review the code in the cell(s) to identify a possible cause of the failure. Click <a href='https://aka.ms/vscodeJupyterKernelCrash'>here</a> for more info. View Jupyter <a href='command:jupyter.viewOutput'>log</a> for further details."
     ]
    }
   ],
   "source": [
    "for episode in range(num_episodes + 1): # go through the episodes\n",
    "    t0 = time.time() #set the initial time\n",
    "    discrete_state = get_discrete_state(env.reset()) #get the discrete start for the restarted environment \n",
    "    done = False\n",
    "    episode_reward = 0 #reward starts as 0 for each episode\n",
    "\n",
    "    if episode % 2000 == 0: \n",
    "        print(\"Episode: \" + str(episode))\n",
    "\n",
    "    while not done: \n",
    "\n",
    "        if np.random.random() > epsilon:\n",
    "\n",
    "            action = np.argmax(q_table[discrete_state]) #take cordinated action\n",
    "        else:\n",
    "\n",
    "            action = np.random.randint(0, env.action_space.n) #do a random ation\n",
    "\n",
    "        new_state, reward, done, _ = env.step(action) #step action to get new states, reward, and the \"done\" status.\n",
    "\n",
    "        episode_reward += reward #add the reward\n",
    "\n",
    "        new_discrete_state = get_discrete_state(new_state)\n",
    "\n",
    "        if episode % 2000 == 0: #render\n",
    "            env.render()\n",
    "\n",
    "        if not done: #update q-table\n",
    "            max_future_q = np.max(q_table[new_discrete_state])\n",
    "\n",
    "            current_q = q_table[discrete_state + (action,)]\n",
    "\n",
    "            new_q = (1 - learning_rate) * current_q + learning_rate * (reward + DISCOUNT * max_future_q)\n",
    "\n",
    "            q_table[discrete_state + (action,)] = new_q\n",
    "\n",
    "        discrete_state = new_discrete_state\n",
    "\n",
    "    if epsilon > 0.05: #epsilon modification\n",
    "        if episode_reward > prior_reward and episode > 10000:\n",
    "            epsilon = math.pow(epsilon_decay_value, episode - 10000)\n",
    "\n",
    "            if episode % 500 == 0:\n",
    "                print(\"Epsilon: \" + str(epsilon))\n",
    "\n",
    "    t1 = time.time() #episode has finished\n",
    "    episode_total = t1 - t0 #episode total time\n",
    "    total = total + episode_total\n",
    "\n",
    "    total_reward += episode_reward #episode total reward\n",
    "    prior_reward = episode_reward\n",
    "\n",
    "    if episode % 1000 == 0: #every 1000 episodes print the average time and the average reward\n",
    "        mean = total / 1000\n",
    "        print(\"Time Average: \" + str(mean))\n",
    "        total = 0\n",
    "\n",
    "        mean_reward = total_reward / 1000\n",
    "        print(\"Mean Reward: \" + str(mean_reward))\n",
    "        total_reward = 0\n",
    "\n",
    "env.close()"
   ]
  }
 ],
 "metadata": {
  "interpreter": {
   "hash": "c8732c892ed25220206e2171fcd9341bbbe55a647096787aa5baa73044076264"
  },
  "kernelspec": {
   "display_name": "Python 3.10.2 64-bit",
   "language": "python",
   "name": "python3"
  },
  "language_info": {
   "codemirror_mode": {
    "name": "ipython",
    "version": 3
   },
   "file_extension": ".py",
   "mimetype": "text/x-python",
   "name": "python",
   "nbconvert_exporter": "python",
   "pygments_lexer": "ipython3",
   "version": "3.10.2"
  },
  "orig_nbformat": 4
 },
 "nbformat": 4,
 "nbformat_minor": 2
}
