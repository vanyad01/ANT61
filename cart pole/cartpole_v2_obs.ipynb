{
 "cells": [
  {
   "cell_type": "markdown",
   "metadata": {},
   "source": [
    "LOGIC WALKTHROUGH:\n",
    "1. Initialise replay memory capacity.\n",
    "2. Initialise the network with random weights.\n",
    "3. For each episode:\n",
    "    1. Initialise the starting state.\n",
    "    2. For each time step:\n",
    "        1. Select an action (exploration or exploitation).\n",
    "        2. Execute selected action in an emulator.\n",
    "        3. Observe reward and next state.\n",
    "        4. Store experience in replay memory.\n",
    "        5. Sample random batch from replay memory.\n",
    "        6. Preprocess states from batch.\n",
    "        7. Pass batch of preprocessed states to policy network.\n",
    "        8. Calculate loss between output Q-values and target Q-values (this requires a second pass to the network for the next state).\n",
    "        9. Gradient descent updates weights in the policy network to minimise loss (after x time steps, weights in the target network are updated to the weights in the policy network)."
   ]
  },
  {
   "cell_type": "code",
   "execution_count": 181,
   "metadata": {},
   "outputs": [],
   "source": [
    "import gym\n",
    "import math\n",
    "import random\n",
    "import numpy as np\n",
    "import matplotlib\n",
    "import matplotlib.pyplot as plt\n",
    "from collections import namedtuple\n",
    "from itertools import count\n",
    "from PIL import Image\n",
    "import torch\n",
    "import torch.nn as nn\n",
    "import torch.optim as optim\n",
    "import torch.nn.functional as F\n",
    "import torchvision.transforms as T\n",
    "\n",
    "# #! = include this line for the original code."
   ]
  },
  {
   "cell_type": "code",
   "execution_count": 182,
   "metadata": {},
   "outputs": [],
   "source": [
    "is_ipython = 'inline' in matplotlib.get_backend()\n",
    "if is_ipython: from IPython import display"
   ]
  },
  {
   "cell_type": "markdown",
   "metadata": {},
   "source": [
    "### Build deep q-network:"
   ]
  },
  {
   "cell_type": "code",
   "execution_count": 183,
   "metadata": {},
   "outputs": [],
   "source": [
    "# the DQN receives screenshots of the cartpole environment as input, so we need to crop the images by\n",
    "# inputting a height and width.\n",
    "class DQN(nn.Module):\n",
    "    # def __init__(self, img_height, img_width):\n",
    "    def __init__(self, num_state_features):\n",
    "        super().__init__()\n",
    "\n",
    "        # 3 responds to the RGB colours.\n",
    "        # the output values correspond to the Q-values that the agent can take from a given state.\n",
    "        # our only available actions are for the cart to move LEFT or RIGHT, ∴ we only have 2 outputs for self.out.\n",
    "        #!self.fc1 = nn.Linear(in_features=img_height*img_width*3, out_features=24)\n",
    "        self.fc1 = nn.Linear(in_features=num_state_features, out_features=24) # remove this line for OG code.\n",
    "        self.fc2 = nn.Linear(in_features=24, out_features=32) # first layer accepts 24 inputs, and produces 32 outputs.\n",
    "        self.out = nn.Linear(in_features=32, out_features=2) # ∴ next layer expects 32 inputs, and produces 2 outputs.\n",
    "\n",
    "    # implement a \"foward pass\" to the network.\n",
    "    def forward(self, t):\n",
    "        #! t = t.flatten(start_dim=1)\n",
    "        t = F.relu(self.fc1(t))\n",
    "        t = F.relu(self.fc2(t))\n",
    "        t = self.out(t)\n",
    "        return t"
   ]
  },
  {
   "cell_type": "markdown",
   "metadata": {},
   "source": [
    "### Experience class:"
   ]
  },
  {
   "cell_type": "code",
   "execution_count": 184,
   "metadata": {},
   "outputs": [],
   "source": [
    "# the tuple is named \"Experience\", and it has the subfields state, action, next_state, and reward.\n",
    "# this is each individual experience.\n",
    "Experience = namedtuple(\n",
    "    'Experience',\n",
    "    ('state', 'action', 'next_state', 'reward')\n",
    ")"
   ]
  },
  {
   "cell_type": "markdown",
   "metadata": {},
   "source": [
    "### Replay memory:"
   ]
  },
  {
   "cell_type": "code",
   "execution_count": 185,
   "metadata": {},
   "outputs": [],
   "source": [
    "class ReplayMemory():\n",
    "    def __init__(self, capacity):\n",
    "        self.capacity = capacity\n",
    "        self.memory = [] # this is the structure to hold the experiences.\n",
    "        self.push_count = 0 # track how many experiences we've added to 'memory'.\n",
    "\n",
    "    def push(self, experience):\n",
    "        # check that the amount of experiences already in 'memory' are LESS than the memory's capacity.\n",
    "        # if YES, then add experience to memory.\n",
    "        # if NO, then push new experiences to the front of memory and overwrite the oldest experiences.\n",
    "        if len(self.memory) < self.capacity:\n",
    "            self.memory.append(experience)\n",
    "        else:\n",
    "            self.memory[self.push_count % self.capacity] = experience\n",
    "        self.push_count += 1\n",
    "\n",
    "    # get random sample of experiences.\n",
    "    def sample(self, batch_size):\n",
    "        return random.sample(self.memory, batch_size)\n",
    "\n",
    "    # make sure the memory batch is at full capacity before a sample is provided!\n",
    "    def can_provide_sample(self, batch_size):\n",
    "        return len(self.memory) >= batch_size"
   ]
  },
  {
   "cell_type": "markdown",
   "metadata": {},
   "source": [
    "### Epsilon-Greedy strategy:"
   ]
  },
  {
   "cell_type": "code",
   "execution_count": 186,
   "metadata": {},
   "outputs": [],
   "source": [
    "class EpsilonGreedyStrategy():\n",
    "    def __init__(self, start, end, decay):\n",
    "        self.start = start\n",
    "        self.end = end\n",
    "        self.decay = decay\n",
    "    \n",
    "    def get_exploration_rate(self, current_step):\n",
    "        return self.end + (self.start - self.end) * \\\n",
    "            math.exp(-1. * current_step * self.decay)"
   ]
  },
  {
   "cell_type": "markdown",
   "metadata": {},
   "source": [
    "### Reinforcement learning agent:"
   ]
  },
  {
   "cell_type": "code",
   "execution_count": 187,
   "metadata": {},
   "outputs": [],
   "source": [
    "class Agent():\n",
    "    # the device is the device used by pytorch for tensor calculations.\n",
    "    def __init__(self, strategy, num_actions, device):\n",
    "        self.current_step = 0\n",
    "        self.strategy = strategy\n",
    "        self.num_actions = num_actions\n",
    "        self.device = device\n",
    "\n",
    "    # policy network is the deep q-network that we train to obtain the optimal policy.\n",
    "    def select_action(self, state, policy_net):\n",
    "        rate = self.strategy.get_exploration_rate(self.current_step)\n",
    "        self.current_step += 1\n",
    "\n",
    "        if rate > random.random():\n",
    "            # added this (2 lines):\n",
    "            action = random.randrange(self.num_actions)\n",
    "            return torch.tensor([action]).to(self.device) # explore\n",
    "            #return random.randrange(self.num_actions) # explore\n",
    "        else:\n",
    "            with torch.no_grad():\n",
    "                #! return policy_net(state).argmax(dim=1).to(self.device) # exploit\n",
    "                # remove line below for original code.\n",
    "                return policy_net(state).unsqueeze(dim=0).argmax(dim=1).to(self.device)"
   ]
  },
  {
   "cell_type": "markdown",
   "metadata": {},
   "source": [
    "### Environment manager:"
   ]
  },
  {
   "cell_type": "code",
   "execution_count": 188,
   "metadata": {},
   "outputs": [],
   "source": [
    "class CartPoleEnvManager():\n",
    "    def __init__(self, device):\n",
    "        self.device = device\n",
    "        self.env = gym.make('CartPole-v1').unwrapped\n",
    "        self.env.reset()\n",
    "        #! self.current_screen = None\n",
    "        self.current_state = None # remove this line for original code.\n",
    "        self.done = False\n",
    "    \n",
    "    def reset(self):\n",
    "        #! self.env.reset()\n",
    "        #! self.current_screen = None\n",
    "        self.current_state = self.env.reset()\n",
    "    \n",
    "    def close(self):\n",
    "        self.env.close()\n",
    "\n",
    "    def render(self, mode='human'):\n",
    "        return self.env.render(mode)\n",
    "\n",
    "    # only 2 actions available-- left or right.\n",
    "    def num_actions_available(self):\n",
    "        return self.env.action_space.n\n",
    "\n",
    "    def take_action(self, action):\n",
    "        #! _, reward, self.done, _ = self.env.step(action.item())\n",
    "        self.current_state, reward, self.done, _ = self.env.step(action.item()) # remove this line for original code.\n",
    "        return torch.tensor([reward], device=self.device)\n",
    "\n",
    "    #!def just_starting(self):\n",
    "        #return self.current_screen is None\n",
    "\n",
    "    def get_state(self):\n",
    "        #! if self.just_starting() or self.done:\n",
    "        #     self.current_screen = self.get_processed_screen()\n",
    "        #     black_screen = torch.zeros_like(self.current_screen)\n",
    "        #     return black_screen\n",
    "        # else:\n",
    "        #     s1 = self.current_screen\n",
    "        #     s2 = self.get_processed_screen()\n",
    "        #     self.current_screen = s2\n",
    "        #     # state is the difference between 2 consecutive screens.\n",
    "        #     return s2 - s1\n",
    "        if self.done: # remove this line up to and including line 49 for original code.\n",
    "            return torch.zeros_like(\n",
    "                torch.tensor(self.current_state), device=self.device\n",
    "            ).float()\n",
    "        else:\n",
    "            return torch.tensor(self.current_state, device=self.device).float()\n",
    "\n",
    "    # remove the function below for original code.\n",
    "    def num_state_features(self):\n",
    "        return self.env.observation_space.shape[0]\n",
    "    \n",
    "    # def get_screen_height(self):\n",
    "    #     screen = self.get_processed_screen()\n",
    "    #     return screen.shape[2]\n",
    "\n",
    "    # def get_screen_width(self):\n",
    "    #     screen = self.get_processed_screen()\n",
    "    #     return screen.shape[3]\n",
    "\n",
    "    # def get_processed_screen(self):\n",
    "    #     screen = self.render('rgb_array').transpose((2, 0, 1))\n",
    "    #     screen = self.crop_screen(screen)\n",
    "    #     return self.transform_screen_data(screen)\n",
    "\n",
    "    # def crop_screen(self, screen):\n",
    "    #     screen_height = screen.shape[1]\n",
    "\n",
    "    #     # strip off top and bottom\n",
    "    #     top = int(screen_height * 0.4)\n",
    "    #     bottom = int(screen_height * 0.8)\n",
    "    #     screen = screen[:, top:bottom, :]\n",
    "    #     return screen\n",
    "\n",
    "    # def transform_screen_data(self, screen):\n",
    "    #     # convert to float, rescale, convert to tensor\n",
    "    #     screen = np.ascontiguousarray(screen, dtype=np.float32) / 255\n",
    "    #     screen = torch.from_numpy(screen)\n",
    "\n",
    "    #     # use torchvision package to compose image transforms\n",
    "    #     resize = T.Compose([\n",
    "    #         T.ToPILImage()\n",
    "    #         ,T.Resize((40,90))\n",
    "    #         ,T.ToTensor()\n",
    "    #     ])\n",
    "\n",
    "    #     return resize(screen).unsqueeze(0).to(self.device)"
   ]
  },
  {
   "cell_type": "markdown",
   "metadata": {},
   "source": [
    "### Tensor processing:"
   ]
  },
  {
   "cell_type": "code",
   "execution_count": 189,
   "metadata": {},
   "outputs": [],
   "source": [
    "def extract_tensors(experiences):\n",
    "    batch = Experience(*zip(*experiences))\n",
    "\n",
    "    t1 = torch.stack(batch.state)\n",
    "    t2 = torch.cat(batch.action)\n",
    "    t3 = torch.cat(batch.reward)\n",
    "    t4 = torch.stack(batch.next_state)\n",
    "\n",
    "    return (t1, t2, t3, t4)    "
   ]
  },
  {
   "cell_type": "markdown",
   "metadata": {},
   "source": [
    "### Q-Value calculator:"
   ]
  },
  {
   "cell_type": "code",
   "execution_count": 190,
   "metadata": {},
   "outputs": [],
   "source": [
    "class QValues():\n",
    "    device = torch.device(\"cuda\" if torch.cuda.is_available() else \"cpu\")\n",
    "\n",
    "    @staticmethod\n",
    "    def get_current(policy_net, states, actions):\n",
    "        return policy_net(states).gather(dim=1, index=actions.unsqueeze(-1))\n",
    "\n",
    "    @staticmethod\n",
    "    def get_next(target_net, next_states):\n",
    "        final_state_locations = next_states.flatten(start_dim=1) \\\n",
    "            .max(dim=1)[0].eq(0).type(torch.bool)\n",
    "        non_final_state_locations = (final_state_locations == False)\n",
    "        non_final_states = next_states[non_final_state_locations]\n",
    "        batch_size = next_states.shape[0]\n",
    "        values = torch.zeros(batch_size).to(QValues.device)\n",
    "        values[non_final_state_locations] = target_net(non_final_states).max(dim=1)[0].detach()\n",
    "        return values"
   ]
  },
  {
   "cell_type": "code",
   "execution_count": 191,
   "metadata": {},
   "outputs": [],
   "source": [
    "# device = torch.device(\"cuda\" if torch.cuda.is_available() else \"cpu\")\n",
    "# em = CartPoleEnvManager(device)\n",
    "# em.reset()\n",
    "# screen = em.render('rgb_array')\n",
    "\n",
    "# plt.figure()\n",
    "# plt.imshow(screen)\n",
    "# plt.title('Non-processed screen example')\n",
    "# plt.show()"
   ]
  },
  {
   "cell_type": "code",
   "execution_count": 192,
   "metadata": {},
   "outputs": [],
   "source": [
    "# screen = em.get_processed_screen()\n",
    "\n",
    "# plt.figure()\n",
    "# plt.imshow(screen.squeeze(0).permute(1, 2, 0), interpolation='none')\n",
    "# plt.title('Processed screen example')\n",
    "# plt.show()"
   ]
  },
  {
   "cell_type": "markdown",
   "metadata": {},
   "source": [
    "### Plotting:"
   ]
  },
  {
   "cell_type": "code",
   "execution_count": 193,
   "metadata": {},
   "outputs": [],
   "source": [
    "def plot(values, moving_avg_period):\n",
    "    plt.figure(2)\n",
    "    plt.clf()\n",
    "    plt.title('Training...')\n",
    "    plt.xlabel('Episode')\n",
    "    plt.ylabel('Duration')\n",
    "    plt.plot(values)\n",
    "\n",
    "    moving_avg = get_moving_average(moving_avg_period, values)\n",
    "    plt.plot(moving_avg)\n",
    "    plt.pause(0.001)\n",
    "    print(\"Episode\", len(values), \"\\n\", \\\n",
    "        moving_avg_period, \"episode moving avg:\", moving_avg[-1])\n",
    "    if is_ipython: display.clear_output(wait=True)\n",
    "\n",
    "def get_moving_average(period, values):\n",
    "    values = torch.tensor(values, dtype=torch.float)\n",
    "    if len(values) >= period:\n",
    "        moving_avg = values.unfold(dimension=0, size=period, step=1) \\\n",
    "            .mean(dim=1).flatten(start_dim=0)\n",
    "        moving_avg = torch.cat((torch.zeros(period-1), moving_avg))\n",
    "        return moving_avg.numpy()\n",
    "    else:\n",
    "        moving_avg = torch.zeros(len(values))\n",
    "        return moving_avg.numpy()"
   ]
  },
  {
   "cell_type": "code",
   "execution_count": 194,
   "metadata": {},
   "outputs": [],
   "source": [
    "#plot(np.random.rand(300), 100)"
   ]
  },
  {
   "cell_type": "markdown",
   "metadata": {},
   "source": [
    "### MAIN PROGRAM:"
   ]
  },
  {
   "cell_type": "code",
   "execution_count": 195,
   "metadata": {},
   "outputs": [
    {
     "data": {
      "image/png": "[encoded data removed]",
      "text/plain": [
       "<Figure size 432x288 with 1 Axes>"
      ]
     },
     "metadata": {
      "needs_background": "light"
     },
     "output_type": "display_data"
    },
    {
     "name": "stdout",
     "output_type": "stream",
     "text": [
      "Episode 349 \n",
      " 100 episode moving avg: 195.09\n"
     ]
    }
   ],
   "source": [
    "batch_size = 256\n",
    "gamma = 0.99\n",
    "eps_start = 1\n",
    "eps_end = 0.1\n",
    "eps_decay = 0.01\n",
    "target_update = 20 # how frequently we update the target network\n",
    "memory_size = 150000\n",
    "lr = 0.001 # learning rate\n",
    "num_episodes = 1000\n",
    "\n",
    "device = torch.device(\"cuda\" if torch.cuda.is_available() else \"cpu\")\n",
    "em = CartPoleEnvManager(device)\n",
    "strategy = EpsilonGreedyStrategy(eps_start, eps_end, eps_decay)\n",
    "agent = Agent(strategy, em.num_actions_available(), device)\n",
    "memory = ReplayMemory(memory_size)\n",
    "\n",
    "#policy_net = DQN(em.get_screen_height(), em.get_screen_width()).to(device)\n",
    "#target_net = DQN(em.get_screen_height(), em.get_screen_width()).to(device)\n",
    "policy_net = DQN(em.num_state_features()).to(device) # remove this line for original code.\n",
    "target_net = DQN(em.num_state_features()).to(device) # remove this line for original code.\n",
    "target_net.load_state_dict(policy_net.state_dict())\n",
    "target_net.eval()\n",
    "optimizer = optim.Adam(params=policy_net.parameters(), lr=lr)\n",
    "\n",
    "episode_durations = []\n",
    "for episode in range(num_episodes):\n",
    "    em.reset()\n",
    "    state = em.get_state()\n",
    "\n",
    "    for timestep in count():\n",
    "        em.render()\n",
    "        action = agent.select_action(state, policy_net)\n",
    "        reward = em.take_action(action)\n",
    "        next_state = em.get_state()\n",
    "        memory.push(Experience(state, action, next_state, reward))\n",
    "        state = next_state\n",
    "\n",
    "        if memory.can_provide_sample(batch_size):\n",
    "            experiences = memory.sample(batch_size)\n",
    "            states, actions, rewards, next_states = extract_tensors(experiences)\n",
    "\n",
    "            current_q_values = QValues.get_current(policy_net, states, actions)\n",
    "            next_q_values = QValues.get_next(target_net, next_states)\n",
    "            target_q_values = (next_q_values * gamma) + rewards\n",
    "\n",
    "            loss = F.mse_loss(current_q_values, target_q_values.unsqueeze(1))\n",
    "            optimizer.zero_grad()\n",
    "            loss.backward()\n",
    "            optimizer.step()\n",
    "\n",
    "        if em.done:\n",
    "            episode_durations.append(timestep)\n",
    "            plot(episode_durations, 100)\n",
    "            break\n",
    "\n",
    "    if episode % target_update == 0:\n",
    "        target_net.load_state_dict(policy_net.state_dict())\n",
    "\n",
    "    if get_moving_average(100, episode_durations)[-1] >= 195:\n",
    "        break\n",
    "\n",
    "em.close()"
   ]
  }
 ],
 "metadata": {
  "interpreter": {
   "hash": "9a1b174203307a56891531ab56d3143296a9e00346315ec7316f9ec2bc6bd586"
  },
  "kernelspec": {
   "display_name": "Python 3.10.2 64-bit",
   "language": "python",
   "name": "python3"
  },
  "language_info": {
   "codemirror_mode": {
    "name": "ipython",
    "version": 3
   },
   "file_extension": ".py",
   "mimetype": "text/x-python",
   "name": "python",
   "nbconvert_exporter": "python",
   "pygments_lexer": "ipython3",
   "version": "3.10.2"
  },
  "orig_nbformat": 4
 },
 "nbformat": 4,
 "nbformat_minor": 2
}
