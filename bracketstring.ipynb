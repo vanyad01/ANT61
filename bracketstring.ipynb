{
 "cells": [
  {
   "cell_type": "code",
   "execution_count": 16,
   "metadata": {},
   "outputs": [
    {
     "name": "stdout",
     "output_type": "stream",
     "text": [
      "{[]()} is balanced\n",
      "[{}{})(] is unbalanced\n"
     ]
    }
   ],
   "source": [
    "# define a list of open and closed brackets to compare the string to later on.\n",
    "open_brackets = [\"[\",\"{\",\"(\"]\n",
    "closed_brackets = [\"]\",\"}\",\")\"]\n",
    "  \n",
    "# check string for unbalanced brackets.\n",
    "def check(myStr):\n",
    "    # define an empty stack where open brackets will be stored.\n",
    "    stack = []\n",
    "    # when an open bracket is found, store it in the stack.\n",
    "    for i in myStr:\n",
    "        if i in open_brackets:\n",
    "            stack.append(i)\n",
    "        # if it's a closed bracket, identify the index of that bracket in the closed bracket list.\n",
    "        elif i in closed_brackets:\n",
    "            pos = closed_brackets.index(i)\n",
    "            # check that the most recent bracket in the stack corresponds to the closed bracket we just\n",
    "            #   found in the outer loop, and if it matches, delete that bracket from the stack because\n",
    "            #   we've found a pair for it in the correct order.\n",
    "            if ((len(stack) > 0) and\n",
    "                (open_brackets[pos] == stack[len(stack)-1])):\n",
    "                stack.pop()\n",
    "            # if the bracket did NOT correspond to the most recent bracket in the stack, that means the bracket\n",
    "            #   is unbalanced, or in the wrong place, i.e. {([)]} <- these brackets are in the wrong order, even\n",
    "            #   though there is a corresponding closed bracket for each open bracket.\n",
    "            else:\n",
    "                return \"unbalanced\"\n",
    "    # if the stack was empty, that means we've found all the correct closing brackets for each open bracket in the\n",
    "    #   right order, and the whole stack was emptied. therefore, the bracket string is balanced.\n",
    "    if len(stack) == 0:\n",
    "        return \"balanced\"\n",
    "    else:\n",
    "        return \"unbalanced\"\n",
    "  \n",
    "# this string should be balanced:  \n",
    "string = \"{[]()}\"\n",
    "print(string,\"is\", check(string))\n",
    "\n",
    "# this string should be unbalanced:  \n",
    "string = \"[{}{})(]\"\n",
    "print(string,\"is\", check(string))"
   ]
  }
 ],
 "metadata": {
  "interpreter": {
   "hash": "9a1b174203307a56891531ab56d3143296a9e00346315ec7316f9ec2bc6bd586"
  },
  "kernelspec": {
   "display_name": "Python 3.10.2 64-bit",
   "language": "python",
   "name": "python3"
  },
  "language_info": {
   "codemirror_mode": {
    "name": "ipython",
    "version": 3
   },
   "file_extension": ".py",
   "mimetype": "text/x-python",
   "name": "python",
   "nbconvert_exporter": "python",
   "pygments_lexer": "ipython3",
   "version": "3.10.2"
  },
  "orig_nbformat": 4
 },
 "nbformat": 4,
 "nbformat_minor": 2
}
